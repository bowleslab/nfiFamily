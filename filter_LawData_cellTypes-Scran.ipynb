{
 "cells": [
  {
   "cell_type": "code",
   "execution_count": null,
   "id": "5e40321f",
   "metadata": {},
   "outputs": [],
   "source": []
  },
  {
   "cell_type": "markdown",
   "id": "a61b0b25",
   "metadata": {},
   "source": [
    "Filter the raw data from Ernst to get matrix of counts for different cell types."
   ]
  },
  {
   "cell_type": "markdown",
   "id": "9d0bc272",
   "metadata": {},
   "source": [
    "Data available https://www.ebi.ac.uk/arrayexpress/experiments/E-MTAB-6946/ (Ernst et al. 2019)\n"
   ]
  },
  {
   "cell_type": "code",
   "execution_count": 3,
   "id": "b1b514ed",
   "metadata": {},
   "outputs": [],
   "source": [
    "library(Matrix)\n",
    "library(\"data.table\")\n",
    "library(edgeR)\n",
    "library(SingleCellExperiment)\n",
    "library(scran)\n",
    "library(scuttle)"
   ]
  },
  {
   "cell_type": "code",
   "execution_count": 4,
   "id": "3db98a4a",
   "metadata": {},
   "outputs": [],
   "source": [
    "# Load cell agregate\n",
    "cell_matrix <- read.delim(\"data/law/GSE124904_aggregate_gene_cell_matrix.txt\", header = TRUE, sep = \" \", dec = \".\")"
   ]
  },
  {
   "cell_type": "code",
   "execution_count": 24,
   "id": "18076b67",
   "metadata": {},
   "outputs": [
    {
     "data": {
      "text/html": [
       "<table class=\"dataframe\">\n",
       "<caption>A data.frame: 1 × 10140</caption>\n",
       "<thead>\n",
       "\t<tr><th></th><th scope=col>E16.1_AAACCTGAGAAACCAT</th><th scope=col>E16.1_AAACCTGGTAAGAGAG</th><th scope=col>E16.1_AAACCTGTCGCCAAAT</th><th scope=col>E16.1_AAAGATGAGAGACGAA</th><th scope=col>E16.1_AAAGATGCAAACCCAT</th><th scope=col>E16.1_AAAGATGCACAACTGT</th><th scope=col>E16.1_AAAGCAAGTCGCGAAA</th><th scope=col>E16.1_AAAGTAGAGTTCGCGC</th><th scope=col>E16.1_AAAGTAGCAGTGACAG</th><th scope=col>E16.1_AAAGTAGCATTGTGCA</th><th scope=col>⋯</th><th scope=col>P0.2_CATGCCTTCCGGGTGT</th><th scope=col>P0.2_CGTGTAAGTATTCTCT</th><th scope=col>P0.2_TGAGCCGAGATCTGCT</th><th scope=col>P0.3_TACTTGTCAAGACACG</th><th scope=col>P0.3_TCAGCAATCTATCCCG</th><th scope=col>P0.3_TGTCCCATCATGGTCA</th><th scope=col>P0.3_TTAGGCAGTTGTTTGG</th><th scope=col>P3.1_GGAATAATCGCTGATA</th><th scope=col>P3.1_GTGCAGCAGTCAAGGC</th><th scope=col>P3.1_TTCTCAAGTCACCCAG</th></tr>\n",
       "\t<tr><th></th><th scope=col>&lt;int&gt;</th><th scope=col>&lt;int&gt;</th><th scope=col>&lt;int&gt;</th><th scope=col>&lt;int&gt;</th><th scope=col>&lt;int&gt;</th><th scope=col>&lt;int&gt;</th><th scope=col>&lt;int&gt;</th><th scope=col>&lt;int&gt;</th><th scope=col>&lt;int&gt;</th><th scope=col>&lt;int&gt;</th><th scope=col>⋯</th><th scope=col>&lt;int&gt;</th><th scope=col>&lt;int&gt;</th><th scope=col>&lt;int&gt;</th><th scope=col>&lt;int&gt;</th><th scope=col>&lt;int&gt;</th><th scope=col>&lt;int&gt;</th><th scope=col>&lt;int&gt;</th><th scope=col>&lt;int&gt;</th><th scope=col>&lt;int&gt;</th><th scope=col>&lt;int&gt;</th></tr>\n",
       "</thead>\n",
       "<tbody>\n",
       "\t<tr><th scope=row>Nfix</th><td>0</td><td>0</td><td>0</td><td>1</td><td>0</td><td>0</td><td>0</td><td>0</td><td>0</td><td>0</td><td>⋯</td><td>0</td><td>0</td><td>0</td><td>0</td><td>0</td><td>1</td><td>0</td><td>0</td><td>0</td><td>0</td></tr>\n",
       "</tbody>\n",
       "</table>\n"
      ],
      "text/latex": [
       "A data.frame: 1 × 10140\n",
       "\\begin{tabular}{r|lllllllllllllllllllll}\n",
       "  & E16.1\\_AAACCTGAGAAACCAT & E16.1\\_AAACCTGGTAAGAGAG & E16.1\\_AAACCTGTCGCCAAAT & E16.1\\_AAAGATGAGAGACGAA & E16.1\\_AAAGATGCAAACCCAT & E16.1\\_AAAGATGCACAACTGT & E16.1\\_AAAGCAAGTCGCGAAA & E16.1\\_AAAGTAGAGTTCGCGC & E16.1\\_AAAGTAGCAGTGACAG & E16.1\\_AAAGTAGCATTGTGCA & ⋯ & P0.2\\_CATGCCTTCCGGGTGT & P0.2\\_CGTGTAAGTATTCTCT & P0.2\\_TGAGCCGAGATCTGCT & P0.3\\_TACTTGTCAAGACACG & P0.3\\_TCAGCAATCTATCCCG & P0.3\\_TGTCCCATCATGGTCA & P0.3\\_TTAGGCAGTTGTTTGG & P3.1\\_GGAATAATCGCTGATA & P3.1\\_GTGCAGCAGTCAAGGC & P3.1\\_TTCTCAAGTCACCCAG\\\\\n",
       "  & <int> & <int> & <int> & <int> & <int> & <int> & <int> & <int> & <int> & <int> & ⋯ & <int> & <int> & <int> & <int> & <int> & <int> & <int> & <int> & <int> & <int>\\\\\n",
       "\\hline\n",
       "\tNfix & 0 & 0 & 0 & 1 & 0 & 0 & 0 & 0 & 0 & 0 & ⋯ & 0 & 0 & 0 & 0 & 0 & 1 & 0 & 0 & 0 & 0\\\\\n",
       "\\end{tabular}\n"
      ],
      "text/markdown": [
       "\n",
       "A data.frame: 1 × 10140\n",
       "\n",
       "| <!--/--> | E16.1_AAACCTGAGAAACCAT &lt;int&gt; | E16.1_AAACCTGGTAAGAGAG &lt;int&gt; | E16.1_AAACCTGTCGCCAAAT &lt;int&gt; | E16.1_AAAGATGAGAGACGAA &lt;int&gt; | E16.1_AAAGATGCAAACCCAT &lt;int&gt; | E16.1_AAAGATGCACAACTGT &lt;int&gt; | E16.1_AAAGCAAGTCGCGAAA &lt;int&gt; | E16.1_AAAGTAGAGTTCGCGC &lt;int&gt; | E16.1_AAAGTAGCAGTGACAG &lt;int&gt; | E16.1_AAAGTAGCATTGTGCA &lt;int&gt; | ⋯ ⋯ | P0.2_CATGCCTTCCGGGTGT &lt;int&gt; | P0.2_CGTGTAAGTATTCTCT &lt;int&gt; | P0.2_TGAGCCGAGATCTGCT &lt;int&gt; | P0.3_TACTTGTCAAGACACG &lt;int&gt; | P0.3_TCAGCAATCTATCCCG &lt;int&gt; | P0.3_TGTCCCATCATGGTCA &lt;int&gt; | P0.3_TTAGGCAGTTGTTTGG &lt;int&gt; | P3.1_GGAATAATCGCTGATA &lt;int&gt; | P3.1_GTGCAGCAGTCAAGGC &lt;int&gt; | P3.1_TTCTCAAGTCACCCAG &lt;int&gt; |\n",
       "|---|---|---|---|---|---|---|---|---|---|---|---|---|---|---|---|---|---|---|---|---|---|\n",
       "| Nfix | 0 | 0 | 0 | 1 | 0 | 0 | 0 | 0 | 0 | 0 | ⋯ | 0 | 0 | 0 | 0 | 0 | 1 | 0 | 0 | 0 | 0 |\n",
       "\n"
      ],
      "text/plain": [
       "     E16.1_AAACCTGAGAAACCAT E16.1_AAACCTGGTAAGAGAG E16.1_AAACCTGTCGCCAAAT\n",
       "Nfix 0                      0                      0                     \n",
       "     E16.1_AAAGATGAGAGACGAA E16.1_AAAGATGCAAACCCAT E16.1_AAAGATGCACAACTGT\n",
       "Nfix 1                      0                      0                     \n",
       "     E16.1_AAAGCAAGTCGCGAAA E16.1_AAAGTAGAGTTCGCGC E16.1_AAAGTAGCAGTGACAG\n",
       "Nfix 0                      0                      0                     \n",
       "     E16.1_AAAGTAGCATTGTGCA ⋯ P0.2_CATGCCTTCCGGGTGT P0.2_CGTGTAAGTATTCTCT\n",
       "Nfix 0                      ⋯ 0                     0                    \n",
       "     P0.2_TGAGCCGAGATCTGCT P0.3_TACTTGTCAAGACACG P0.3_TCAGCAATCTATCCCG\n",
       "Nfix 0                     0                     0                    \n",
       "     P0.3_TGTCCCATCATGGTCA P0.3_TTAGGCAGTTGTTTGG P3.1_GGAATAATCGCTGATA\n",
       "Nfix 1                     0                     0                    \n",
       "     P3.1_GTGCAGCAGTCAAGGC P3.1_TTCTCAAGTCACCCAG\n",
       "Nfix 0                     0                    "
      ]
     },
     "metadata": {},
     "output_type": "display_data"
    },
    {
     "data": {
      "text/html": [
       "<table class=\"dataframe\">\n",
       "<caption>A data.frame: 6 × 1</caption>\n",
       "<thead>\n",
       "\t<tr><th></th><th scope=col>Sample</th></tr>\n",
       "\t<tr><th></th><th scope=col>&lt;chr&gt;</th></tr>\n",
       "</thead>\n",
       "<tbody>\n",
       "\t<tr><th scope=row>E16.1_AAACCTGAGAAACCAT</th><td>E16</td></tr>\n",
       "\t<tr><th scope=row>E16.1_AAACCTGGTAAGAGAG</th><td>E16</td></tr>\n",
       "\t<tr><th scope=row>E16.1_AAACCTGTCGCCAAAT</th><td>E16</td></tr>\n",
       "\t<tr><th scope=row>E16.1_AAAGATGAGAGACGAA</th><td>E16</td></tr>\n",
       "\t<tr><th scope=row>E16.1_AAAGATGCAAACCCAT</th><td>E16</td></tr>\n",
       "\t<tr><th scope=row>E16.1_AAAGATGCACAACTGT</th><td>E16</td></tr>\n",
       "</tbody>\n",
       "</table>\n"
      ],
      "text/latex": [
       "A data.frame: 6 × 1\n",
       "\\begin{tabular}{r|l}\n",
       "  & Sample\\\\\n",
       "  & <chr>\\\\\n",
       "\\hline\n",
       "\tE16.1\\_AAACCTGAGAAACCAT & E16\\\\\n",
       "\tE16.1\\_AAACCTGGTAAGAGAG & E16\\\\\n",
       "\tE16.1\\_AAACCTGTCGCCAAAT & E16\\\\\n",
       "\tE16.1\\_AAAGATGAGAGACGAA & E16\\\\\n",
       "\tE16.1\\_AAAGATGCAAACCCAT & E16\\\\\n",
       "\tE16.1\\_AAAGATGCACAACTGT & E16\\\\\n",
       "\\end{tabular}\n"
      ],
      "text/markdown": [
       "\n",
       "A data.frame: 6 × 1\n",
       "\n",
       "| <!--/--> | Sample &lt;chr&gt; |\n",
       "|---|---|\n",
       "| E16.1_AAACCTGAGAAACCAT | E16 |\n",
       "| E16.1_AAACCTGGTAAGAGAG | E16 |\n",
       "| E16.1_AAACCTGTCGCCAAAT | E16 |\n",
       "| E16.1_AAAGATGAGAGACGAA | E16 |\n",
       "| E16.1_AAAGATGCAAACCCAT | E16 |\n",
       "| E16.1_AAAGATGCACAACTGT | E16 |\n",
       "\n"
      ],
      "text/plain": [
       "                       Sample\n",
       "E16.1_AAACCTGAGAAACCAT E16   \n",
       "E16.1_AAACCTGGTAAGAGAG E16   \n",
       "E16.1_AAACCTGTCGCCAAAT E16   \n",
       "E16.1_AAAGATGAGAGACGAA E16   \n",
       "E16.1_AAAGATGCAAACCCAT E16   \n",
       "E16.1_AAAGATGCACAACTGT E16   "
      ]
     },
     "metadata": {},
     "output_type": "display_data"
    }
   ],
   "source": [
    "head(cell_matrix[\"Nfix\",])\n",
    "metadata <- sapply(strsplit(colnames(cell_matrix), \"[.]\"), `[`, 1)\n",
    "names(metadata) <- colnames(cell_matrix)\n",
    "metadata = as.data.frame( metadata)\n",
    "colnames(metadata) <- c(\"Sample\")\n",
    "head(metadata)"
   ]
  },
  {
   "cell_type": "code",
   "execution_count": 27,
   "id": "9feb99b9",
   "metadata": {},
   "outputs": [],
   "source": [
    "# this cell passed the QC but is actually an artefact and was removed from the analysis\n",
    "prot_coding_genes <- read.csv(file=\"data/stevant/prot_coding.csv\", row.names=1)\n",
    "cell_matrix <- cell_matrix[rownames(cell_matrix) %in% as.vector(prot_coding_genes$x),]"
   ]
  },
  {
   "cell_type": "code",
   "execution_count": 28,
   "id": "d93009ee",
   "metadata": {},
   "outputs": [
    {
     "data": {
      "text/html": [
       "<table class=\"dataframe\">\n",
       "<caption>A data.frame: 6 × 2</caption>\n",
       "<thead>\n",
       "\t<tr><th></th><th scope=col>ID</th><th scope=col>Symbol</th></tr>\n",
       "\t<tr><th></th><th scope=col>&lt;chr&gt;</th><th scope=col>&lt;chr&gt;</th></tr>\n",
       "</thead>\n",
       "<tbody>\n",
       "\t<tr><th scope=row>Xkr4</th><td>Xkr4  </td><td>Xkr4  </td></tr>\n",
       "\t<tr><th scope=row>Rp1</th><td>Rp1   </td><td>Rp1   </td></tr>\n",
       "\t<tr><th scope=row>Sox17</th><td>Sox17 </td><td>Sox17 </td></tr>\n",
       "\t<tr><th scope=row>Mrpl15</th><td>Mrpl15</td><td>Mrpl15</td></tr>\n",
       "\t<tr><th scope=row>Lypla1</th><td>Lypla1</td><td>Lypla1</td></tr>\n",
       "\t<tr><th scope=row>Tcea1</th><td>Tcea1 </td><td>Tcea1 </td></tr>\n",
       "</tbody>\n",
       "</table>\n"
      ],
      "text/latex": [
       "A data.frame: 6 × 2\n",
       "\\begin{tabular}{r|ll}\n",
       "  & ID & Symbol\\\\\n",
       "  & <chr> & <chr>\\\\\n",
       "\\hline\n",
       "\tXkr4 & Xkr4   & Xkr4  \\\\\n",
       "\tRp1 & Rp1    & Rp1   \\\\\n",
       "\tSox17 & Sox17  & Sox17 \\\\\n",
       "\tMrpl15 & Mrpl15 & Mrpl15\\\\\n",
       "\tLypla1 & Lypla1 & Lypla1\\\\\n",
       "\tTcea1 & Tcea1  & Tcea1 \\\\\n",
       "\\end{tabular}\n"
      ],
      "text/markdown": [
       "\n",
       "A data.frame: 6 × 2\n",
       "\n",
       "| <!--/--> | ID &lt;chr&gt; | Symbol &lt;chr&gt; |\n",
       "|---|---|---|\n",
       "| Xkr4 | Xkr4   | Xkr4   |\n",
       "| Rp1 | Rp1    | Rp1    |\n",
       "| Sox17 | Sox17  | Sox17  |\n",
       "| Mrpl15 | Mrpl15 | Mrpl15 |\n",
       "| Lypla1 | Lypla1 | Lypla1 |\n",
       "| Tcea1 | Tcea1  | Tcea1  |\n",
       "\n"
      ],
      "text/plain": [
       "       ID     Symbol\n",
       "Xkr4   Xkr4   Xkr4  \n",
       "Rp1    Rp1    Rp1   \n",
       "Sox17  Sox17  Sox17 \n",
       "Mrpl15 Mrpl15 Mrpl15\n",
       "Lypla1 Lypla1 Lypla1\n",
       "Tcea1  Tcea1  Tcea1 "
      ]
     },
     "metadata": {},
     "output_type": "display_data"
    }
   ],
   "source": [
    "genes <- data.frame(ID = row.names(cell_matrix), Symbol = row.names(cell_matrix))\n",
    "row.names(genes) = genes$Symbol\n",
    "head(genes)"
   ]
  },
  {
   "cell_type": "code",
   "execution_count": 30,
   "id": "954d749a",
   "metadata": {},
   "outputs": [
    {
     "data": {
      "text/plain": [
       "class: SingleCellExperiment \n",
       "dim: 21557 10140 \n",
       "metadata(0):\n",
       "assays(1): counts\n",
       "rownames(21557): Xkr4 Rp1 ... mt-Nd6 mt-Cytb\n",
       "rowData names(2): ID Symbol\n",
       "colnames(10140): E16.1_AAACCTGAGAAACCAT E16.1_AAACCTGGTAAGAGAG ...\n",
       "  P3.1_GTGCAGCAGTCAAGGC P3.1_TTCTCAAGTCACCCAG\n",
       "colData names(1): Sample\n",
       "reducedDimNames(0):\n",
       "mainExpName: NULL\n",
       "altExpNames(0):"
      ]
     },
     "metadata": {},
     "output_type": "display_data"
    }
   ],
   "source": [
    "sce <- SingleCellExperiment(list(counts= cell_matrix), colData=metadata, rowData = genes )\n",
    "sce"
   ]
  },
  {
   "cell_type": "code",
   "execution_count": 31,
   "id": "73906148",
   "metadata": {},
   "outputs": [],
   "source": [
    "qcstats <- perCellQCMetrics(sce)\n"
   ]
  },
  {
   "cell_type": "code",
   "execution_count": 32,
   "id": "34144326",
   "metadata": {},
   "outputs": [
    {
     "data": {
      "text/plain": [
       "   Min. 1st Qu.  Median    Mean 3rd Qu.    Max. \n",
       " 0.1351  0.7316  0.9212  1.0000  1.2054  3.7176 "
      ]
     },
     "metadata": {},
     "output_type": "display_data"
    }
   ],
   "source": [
    "\n",
    "sce <- computeSumFactors(sce)\n",
    "summary(sizeFactors(sce))"
   ]
  },
  {
   "cell_type": "code",
   "execution_count": 33,
   "id": "bb256bb9",
   "metadata": {},
   "outputs": [],
   "source": [
    "sce <- logNormCounts(sce)"
   ]
  },
  {
   "cell_type": "code",
   "execution_count": 34,
   "id": "e282058a",
   "metadata": {},
   "outputs": [
    {
     "data": {
      "text/plain": [
       "\n",
       " E16   P0   P3   P6 \n",
       "3845 2197 2427 1671 "
      ]
     },
     "metadata": {},
     "output_type": "display_data"
    }
   ],
   "source": [
    "table(sce$Sample)"
   ]
  },
  {
   "cell_type": "code",
   "execution_count": 35,
   "id": "23aee02e",
   "metadata": {},
   "outputs": [
    {
     "data": {
      "text/plain": [
       "class: SingleCellExperiment \n",
       "dim: 21557 3845 \n",
       "metadata(0):\n",
       "assays(2): counts logcounts\n",
       "rownames(21557): Xkr4 Rp1 ... mt-Nd6 mt-Cytb\n",
       "rowData names(2): ID Symbol\n",
       "colnames(3845): E16.1_AAACCTGAGAAACCAT E16.1_AAACCTGGTAAGAGAG ...\n",
       "  E16.3_TGGTTCCGTGCAGGTA E16.1_CCCAGTTAGCTAACAA\n",
       "colData names(2): Sample sizeFactor\n",
       "reducedDimNames(0):\n",
       "mainExpName: NULL\n",
       "altExpNames(0):"
      ]
     },
     "metadata": {},
     "output_type": "display_data"
    }
   ],
   "source": [
    "GermcellsE16 = sce[ , sce$Sample == 'E16' ]\n",
    "GermcellsE16"
   ]
  },
  {
   "cell_type": "markdown",
   "id": "62aa1d89",
   "metadata": {},
   "source": [
    "Save the data in files"
   ]
  },
  {
   "cell_type": "code",
   "execution_count": 36,
   "id": "609162ce",
   "metadata": {},
   "outputs": [],
   "source": [
    "save(sce, file=\"data/stevant/GermcellsLaw.Rdata\")\n",
    "save(GermcellsE16, file=\"data/stevant/GermcellsE16Law.Rdata\")"
   ]
  },
  {
   "cell_type": "code",
   "execution_count": null,
   "id": "116b7c23",
   "metadata": {},
   "outputs": [],
   "source": []
  }
 ],
 "metadata": {
  "kernelspec": {
   "display_name": "R",
   "language": "R",
   "name": "ir"
  },
  "language_info": {
   "codemirror_mode": "r",
   "file_extension": ".r",
   "mimetype": "text/x-r-source",
   "name": "R",
   "pygments_lexer": "r",
   "version": "4.1.1"
  }
 },
 "nbformat": 4,
 "nbformat_minor": 5
}
