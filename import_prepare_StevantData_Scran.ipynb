{
 "cells": [
  {
   "cell_type": "markdown",
   "id": "a61b0b25",
   "metadata": {},
   "source": [
    "Filter the raw data from Stévant to get matrix of counts for different cell types."
   ]
  },
  {
   "cell_type": "markdown",
   "id": "9d0bc272",
   "metadata": {},
   "source": [
    "Data available https://www.ncbi.nlm.nih.gov/geo/query/acc.cgi?acc=GSE97519 (Stévant et al. 2019)\n"
   ]
  },
  {
   "cell_type": "code",
   "execution_count": 2,
   "id": "b1b514ed",
   "metadata": {},
   "outputs": [],
   "source": [
    "library(Matrix)\n",
    "library(\"data.table\")\n",
    "library(edgeR)\n",
    "library(SingleCellExperiment)\n",
    "library(scran)\n",
    "library(scuttle)"
   ]
  },
  {
   "cell_type": "code",
   "execution_count": 70,
   "id": "150dc738",
   "metadata": {},
   "outputs": [
    {
     "data": {
      "text/html": [
       "<table class=\"dataframe\">\n",
       "<caption>A data.frame: 6 × 1</caption>\n",
       "<thead>\n",
       "\t<tr><th></th><th scope=col>male_stages</th></tr>\n",
       "\t<tr><th></th><th scope=col>&lt;chr&gt;</th></tr>\n",
       "</thead>\n",
       "<tbody>\n",
       "\t<tr><th scope=row>E10.5_XY_20140428_C01_140729_1</th><td>E10.5</td></tr>\n",
       "\t<tr><th scope=row>E10.5_XY_20140428_C02_140729_1</th><td>E10.5</td></tr>\n",
       "\t<tr><th scope=row>E10.5_XY_20140428_C03_140729_1</th><td>E10.5</td></tr>\n",
       "\t<tr><th scope=row>E10.5_XY_20140428_C04_140729_2</th><td>E10.5</td></tr>\n",
       "\t<tr><th scope=row>E10.5_XY_20140428_C05_140729_2</th><td>E10.5</td></tr>\n",
       "\t<tr><th scope=row>E10.5_XY_20140428_C07_140729_3</th><td>E10.5</td></tr>\n",
       "</tbody>\n",
       "</table>\n"
      ],
      "text/latex": [
       "A data.frame: 6 × 1\n",
       "\\begin{tabular}{r|l}\n",
       "  & male\\_stages\\\\\n",
       "  & <chr>\\\\\n",
       "\\hline\n",
       "\tE10.5\\_XY\\_20140428\\_C01\\_140729\\_1 & E10.5\\\\\n",
       "\tE10.5\\_XY\\_20140428\\_C02\\_140729\\_1 & E10.5\\\\\n",
       "\tE10.5\\_XY\\_20140428\\_C03\\_140729\\_1 & E10.5\\\\\n",
       "\tE10.5\\_XY\\_20140428\\_C04\\_140729\\_2 & E10.5\\\\\n",
       "\tE10.5\\_XY\\_20140428\\_C05\\_140729\\_2 & E10.5\\\\\n",
       "\tE10.5\\_XY\\_20140428\\_C07\\_140729\\_3 & E10.5\\\\\n",
       "\\end{tabular}\n"
      ],
      "text/markdown": [
       "\n",
       "A data.frame: 6 × 1\n",
       "\n",
       "| <!--/--> | male_stages &lt;chr&gt; |\n",
       "|---|---|\n",
       "| E10.5_XY_20140428_C01_140729_1 | E10.5 |\n",
       "| E10.5_XY_20140428_C02_140729_1 | E10.5 |\n",
       "| E10.5_XY_20140428_C03_140729_1 | E10.5 |\n",
       "| E10.5_XY_20140428_C04_140729_2 | E10.5 |\n",
       "| E10.5_XY_20140428_C05_140729_2 | E10.5 |\n",
       "| E10.5_XY_20140428_C07_140729_3 | E10.5 |\n",
       "\n"
      ],
      "text/plain": [
       "                               male_stages\n",
       "E10.5_XY_20140428_C01_140729_1 E10.5      \n",
       "E10.5_XY_20140428_C02_140729_1 E10.5      \n",
       "E10.5_XY_20140428_C03_140729_1 E10.5      \n",
       "E10.5_XY_20140428_C04_140729_2 E10.5      \n",
       "E10.5_XY_20140428_C05_140729_2 E10.5      \n",
       "E10.5_XY_20140428_C07_140729_3 E10.5      "
      ]
     },
     "metadata": {},
     "output_type": "display_data"
    },
    {
     "data": {
      "text/html": [
       "<table class=\"dataframe\">\n",
       "<caption>A data.frame: 6 × 2</caption>\n",
       "<thead>\n",
       "\t<tr><th></th><th scope=col>ID</th><th scope=col>Symbol</th></tr>\n",
       "\t<tr><th></th><th scope=col>&lt;chr&gt;</th><th scope=col>&lt;chr&gt;</th></tr>\n",
       "</thead>\n",
       "<tbody>\n",
       "\t<tr><th scope=row>eGFP</th><td>eGFP </td><td>eGFP </td></tr>\n",
       "\t<tr><th scope=row>Gnai3</th><td>Gnai3</td><td>Gnai3</td></tr>\n",
       "\t<tr><th scope=row>Pbsn</th><td>Pbsn </td><td>Pbsn </td></tr>\n",
       "\t<tr><th scope=row>Cdc45</th><td>Cdc45</td><td>Cdc45</td></tr>\n",
       "\t<tr><th scope=row>Scml2</th><td>Scml2</td><td>Scml2</td></tr>\n",
       "\t<tr><th scope=row>Apoh</th><td>Apoh </td><td>Apoh </td></tr>\n",
       "</tbody>\n",
       "</table>\n"
      ],
      "text/latex": [
       "A data.frame: 6 × 2\n",
       "\\begin{tabular}{r|ll}\n",
       "  & ID & Symbol\\\\\n",
       "  & <chr> & <chr>\\\\\n",
       "\\hline\n",
       "\teGFP & eGFP  & eGFP \\\\\n",
       "\tGnai3 & Gnai3 & Gnai3\\\\\n",
       "\tPbsn & Pbsn  & Pbsn \\\\\n",
       "\tCdc45 & Cdc45 & Cdc45\\\\\n",
       "\tScml2 & Scml2 & Scml2\\\\\n",
       "\tApoh & Apoh  & Apoh \\\\\n",
       "\\end{tabular}\n"
      ],
      "text/markdown": [
       "\n",
       "A data.frame: 6 × 2\n",
       "\n",
       "| <!--/--> | ID &lt;chr&gt; | Symbol &lt;chr&gt; |\n",
       "|---|---|---|\n",
       "| eGFP | eGFP  | eGFP  |\n",
       "| Gnai3 | Gnai3 | Gnai3 |\n",
       "| Pbsn | Pbsn  | Pbsn  |\n",
       "| Cdc45 | Cdc45 | Cdc45 |\n",
       "| Scml2 | Scml2 | Scml2 |\n",
       "| Apoh | Apoh  | Apoh  |\n",
       "\n"
      ],
      "text/plain": [
       "      ID    Symbol\n",
       "eGFP  eGFP  eGFP  \n",
       "Gnai3 Gnai3 Gnai3 \n",
       "Pbsn  Pbsn  Pbsn  \n",
       "Cdc45 Cdc45 Cdc45 \n",
       "Scml2 Scml2 Scml2 \n",
       "Apoh  Apoh  Apoh  "
      ]
     },
     "metadata": {},
     "output_type": "display_data"
    }
   ],
   "source": [
    "# Load male RPKM data\n",
    "load(file=\"data/stevant/male_rpkm.Robj\")\n",
    "# this cell passed the QC but is actually an artefact and was removed from the analysis\n",
    "prot_coding_genes <- read.csv(file=\"data/stevant/prot_coding.csv\", row.names=1)\n",
    "males <- male_rpkm[rownames(male_rpkm) %in% as.vector(prot_coding_genes$x),]\n",
    "males <- males[,!colnames(males) %in% \"E16.5_XY_20150202_C94_150331_8\"]\n",
    "\n",
    "# Load male read count data\n",
    "load(file=\"data/stevant/male_count.Robj\")\n",
    "male_count <- male_count[rownames(male_count) %in% rownames(males),]\n",
    "colnames(male_count) <- colnames(male_rpkm)\n",
    "# this cell passed the QC but is actually an artefact and was removed from the analysis\n",
    "male_count <- male_count[,!colnames(male_count) %in% \"E16.5_XY_20150202_C94_150331_8\"]\n",
    "\n",
    "# Load male clustering results\n",
    "male_clustering <- read.csv(file=\"data/stevant/male_clustering.csv\", row.names=1)$x\n",
    "#male_clustering <- paste(\"XY\", male_clustering, sep=\"_\")\n",
    "names(male_clustering) <- colnames(males)\n",
    "\n",
    "# Get cell embryonic stages\n",
    "male_stages <- sapply(strsplit(colnames(males), \"_\"), `[`, 1)\n",
    "names(male_stages) <- colnames(males)\n",
    "male_stages = as.data.frame( male_stages)\n",
    "head(male_stages)\n",
    "\n",
    "genes <- data.frame(ID = row.names(males), Symbol = row.names(males))\n",
    "row.names(genes) = genes$Symbol\n",
    "head(genes)"
   ]
  },
  {
   "cell_type": "code",
   "execution_count": 71,
   "id": "e907aaf7",
   "metadata": {},
   "outputs": [
    {
     "data": {
      "text/plain": [
       "male_clusteringFrame\n",
       "Early Progenitor      Endothelial     Fetal Leydig  Int. Progenitor \n",
       "             183                3                7              106 \n",
       "     Pre-Sertoli          Sertoli \n",
       "              31               70 "
      ]
     },
     "metadata": {},
     "output_type": "display_data"
    },
    {
     "data": {
      "text/html": [
       "<table class=\"dataframe\">\n",
       "<caption>A data.frame: 6 × 1</caption>\n",
       "<thead>\n",
       "\t<tr><th></th><th scope=col>cluster</th></tr>\n",
       "\t<tr><th></th><th scope=col>&lt;fct&gt;</th></tr>\n",
       "</thead>\n",
       "<tbody>\n",
       "\t<tr><th scope=row>E10.5_XY_20140428_C01_140729_1</th><td>Early Progenitor</td></tr>\n",
       "\t<tr><th scope=row>E10.5_XY_20140428_C02_140729_1</th><td>Early Progenitor</td></tr>\n",
       "\t<tr><th scope=row>E10.5_XY_20140428_C03_140729_1</th><td>Early Progenitor</td></tr>\n",
       "\t<tr><th scope=row>E10.5_XY_20140428_C04_140729_2</th><td>Early Progenitor</td></tr>\n",
       "\t<tr><th scope=row>E10.5_XY_20140428_C05_140729_2</th><td>Early Progenitor</td></tr>\n",
       "\t<tr><th scope=row>E10.5_XY_20140428_C07_140729_3</th><td>Early Progenitor</td></tr>\n",
       "</tbody>\n",
       "</table>\n"
      ],
      "text/latex": [
       "A data.frame: 6 × 1\n",
       "\\begin{tabular}{r|l}\n",
       "  & cluster\\\\\n",
       "  & <fct>\\\\\n",
       "\\hline\n",
       "\tE10.5\\_XY\\_20140428\\_C01\\_140729\\_1 & Early Progenitor\\\\\n",
       "\tE10.5\\_XY\\_20140428\\_C02\\_140729\\_1 & Early Progenitor\\\\\n",
       "\tE10.5\\_XY\\_20140428\\_C03\\_140729\\_1 & Early Progenitor\\\\\n",
       "\tE10.5\\_XY\\_20140428\\_C04\\_140729\\_2 & Early Progenitor\\\\\n",
       "\tE10.5\\_XY\\_20140428\\_C05\\_140729\\_2 & Early Progenitor\\\\\n",
       "\tE10.5\\_XY\\_20140428\\_C07\\_140729\\_3 & Early Progenitor\\\\\n",
       "\\end{tabular}\n"
      ],
      "text/markdown": [
       "\n",
       "A data.frame: 6 × 1\n",
       "\n",
       "| <!--/--> | cluster &lt;fct&gt; |\n",
       "|---|---|\n",
       "| E10.5_XY_20140428_C01_140729_1 | Early Progenitor |\n",
       "| E10.5_XY_20140428_C02_140729_1 | Early Progenitor |\n",
       "| E10.5_XY_20140428_C03_140729_1 | Early Progenitor |\n",
       "| E10.5_XY_20140428_C04_140729_2 | Early Progenitor |\n",
       "| E10.5_XY_20140428_C05_140729_2 | Early Progenitor |\n",
       "| E10.5_XY_20140428_C07_140729_3 | Early Progenitor |\n",
       "\n"
      ],
      "text/plain": [
       "                               cluster         \n",
       "E10.5_XY_20140428_C01_140729_1 Early Progenitor\n",
       "E10.5_XY_20140428_C02_140729_1 Early Progenitor\n",
       "E10.5_XY_20140428_C03_140729_1 Early Progenitor\n",
       "E10.5_XY_20140428_C04_140729_2 Early Progenitor\n",
       "E10.5_XY_20140428_C05_140729_2 Early Progenitor\n",
       "E10.5_XY_20140428_C07_140729_3 Early Progenitor"
      ]
     },
     "metadata": {},
     "output_type": "display_data"
    }
   ],
   "source": [
    "#################\n",
    "male_clusteringFrame <- as.data.frame(male_clustering)\n",
    "\n",
    "names(male_clusteringFrame) <- c(\"cluster\")\n",
    "\n",
    "\n",
    "cluster = c(\"C1\",  \"C2\", \"C3\",  \"C4\",  \"C5\",  \"C6\" )\n",
    "cellCluster = c(\"Endothelial\",\"Early Progenitor\",\"Int. Progenitor\", \"Pre-Sertoli\",\"Fetal Leydig\", \"Sertoli\")\n",
    "for(i in 1:length( cellCluster)){\n",
    "  cluster[i]\n",
    "  male_clusteringFrame[male_clusteringFrame$cluster==cluster[i],] = cellCluster[i]\n",
    "  \n",
    "}\n",
    "\n",
    "\n",
    "male_clusteringFrame$cluster = as.factor(male_clusteringFrame$cluster)\n",
    "table(male_clusteringFrame)\n",
    "\n",
    "head(male_clusteringFrame) \n",
    "\n",
    "#sertoliCells = male_count[ , male_clusteringFrame[\"cluster\",]==\"Sertoli\"]\n",
    "#fetalLeydig = male_count[ , male_clusteringFrame[\"cluster\",]==\"Fetal Leydig\"]\n",
    "\n"
   ]
  },
  {
   "cell_type": "markdown",
   "id": "c4decb3c",
   "metadata": {},
   "source": [
    "The raw_counts row are genes and colummns are cells"
   ]
  },
  {
   "cell_type": "code",
   "execution_count": 72,
   "id": "954d749a",
   "metadata": {},
   "outputs": [
    {
     "data": {
      "text/plain": [
       "class: SingleCellExperiment \n",
       "dim: 21083 400 \n",
       "metadata(0):\n",
       "assays(1): counts\n",
       "rownames(21083): eGFP Gnai3 ... TTC14 Rhbg\n",
       "rowData names(2): ID Symbol\n",
       "colnames(400): E10.5_XY_20140428_C01_140729_1\n",
       "  E10.5_XY_20140428_C02_140729_1 ... E16.5_XY_20150223_C88_150331_6\n",
       "  E16.5_XY_20150223_C94_150331_7\n",
       "colData names(3): Row.names cluster male_stages\n",
       "reducedDimNames(0):\n",
       "mainExpName: NULL\n",
       "altExpNames(0):"
      ]
     },
     "metadata": {},
     "output_type": "display_data"
    }
   ],
   "source": [
    "metadata <- merge(male_clusteringFrame, male_stages, by=0, all=TRUE)\n",
    "\n",
    "sce <- SingleCellExperiment(list(counts= male_count), colData=metadata, rowData = genes )\n",
    "sce"
   ]
  },
  {
   "cell_type": "code",
   "execution_count": 73,
   "id": "73906148",
   "metadata": {},
   "outputs": [],
   "source": [
    "qcstats <- perCellQCMetrics(sce)\n"
   ]
  },
  {
   "cell_type": "code",
   "execution_count": 74,
   "id": "34144326",
   "metadata": {},
   "outputs": [
    {
     "data": {
      "text/plain": [
       "   Min. 1st Qu.  Median    Mean 3rd Qu.    Max. \n",
       "0.09937 0.53197 0.77512 1.00000 1.54305 2.82170 "
      ]
     },
     "metadata": {},
     "output_type": "display_data"
    }
   ],
   "source": [
    "\n",
    "sce <- computeSumFactors(sce)\n",
    "summary(sizeFactors(sce))"
   ]
  },
  {
   "cell_type": "code",
   "execution_count": 75,
   "id": "bb256bb9",
   "metadata": {},
   "outputs": [],
   "source": [
    "sce <- logNormCounts(sce)"
   ]
  },
  {
   "cell_type": "code",
   "execution_count": 76,
   "id": "e282058a",
   "metadata": {},
   "outputs": [
    {
     "data": {
      "text/plain": [
       "\n",
       "Early Progenitor      Endothelial     Fetal Leydig  Int. Progenitor \n",
       "             183                3                7              106 \n",
       "     Pre-Sertoli          Sertoli \n",
       "              31               70 "
      ]
     },
     "metadata": {},
     "output_type": "display_data"
    }
   ],
   "source": [
    "table(sce$cluster)"
   ]
  },
  {
   "cell_type": "code",
   "execution_count": 77,
   "id": "23aee02e",
   "metadata": {},
   "outputs": [
    {
     "data": {
      "text/plain": [
       "class: SingleCellExperiment \n",
       "dim: 21083 70 \n",
       "metadata(0):\n",
       "assays(2): counts logcounts\n",
       "rownames(21083): eGFP Gnai3 ... TTC14 Rhbg\n",
       "rowData names(2): ID Symbol\n",
       "colnames(70): E12.5_XY_20140526_C70_150331_4\n",
       "  E12.5_XY_20140526_C80_150331_8 ... E16.5_XY_20150223_C75_150331_7\n",
       "  E16.5_XY_20150223_C88_150331_6\n",
       "colData names(4): Row.names cluster male_stages sizeFactor\n",
       "reducedDimNames(0):\n",
       "mainExpName: NULL\n",
       "altExpNames(0):"
      ]
     },
     "metadata": {},
     "output_type": "display_data"
    }
   ],
   "source": [
    "Sertoli = sce[ , sce$cluster == 'Sertoli' ]\n",
    "Sertoli"
   ]
  },
  {
   "cell_type": "markdown",
   "id": "62aa1d89",
   "metadata": {},
   "source": [
    "Save the data in files"
   ]
  },
  {
   "cell_type": "code",
   "execution_count": 78,
   "id": "609162ce",
   "metadata": {},
   "outputs": [],
   "source": [
    "save(Sertoli, file=\"data/stevant/SertoliStevant.Rdata\")"
   ]
  },
  {
   "cell_type": "code",
   "execution_count": 79,
   "id": "4d9b86f5",
   "metadata": {},
   "outputs": [
    {
     "data": {
      "text/plain": [
       "class: SingleCellExperiment \n",
       "dim: 21083 7 \n",
       "metadata(0):\n",
       "assays(2): counts logcounts\n",
       "rownames(21083): eGFP Gnai3 ... TTC14 Rhbg\n",
       "rowData names(2): ID Symbol\n",
       "colnames(7): E12.5_XY_20140526_C89_150331_5\n",
       "  E13.5_XY_20130918_C28_140729_2 ... E16.5_XY_20150202_C57_150331_3\n",
       "  E16.5_XY_20150223_C30_150331_1\n",
       "colData names(4): Row.names cluster male_stages sizeFactor\n",
       "reducedDimNames(0):\n",
       "mainExpName: NULL\n",
       "altExpNames(0):"
      ]
     },
     "metadata": {},
     "output_type": "display_data"
    }
   ],
   "source": [
    "Leydig = sce[ , sce$cluster == 'Fetal Leydig' ]\n",
    "Leydig\n",
    "save(Leydig, file=\"data/stevant/LeydigStevant.Rdata\")"
   ]
  },
  {
   "cell_type": "code",
   "execution_count": null,
   "id": "116b7c23",
   "metadata": {},
   "outputs": [],
   "source": []
  }
 ],
 "metadata": {
  "kernelspec": {
   "display_name": "R",
   "language": "R",
   "name": "ir"
  },
  "language_info": {
   "codemirror_mode": "r",
   "file_extension": ".r",
   "mimetype": "text/x-r-source",
   "name": "R",
   "pygments_lexer": "r",
   "version": "4.1.1"
  }
 },
 "nbformat": 4,
 "nbformat_minor": 5
}
