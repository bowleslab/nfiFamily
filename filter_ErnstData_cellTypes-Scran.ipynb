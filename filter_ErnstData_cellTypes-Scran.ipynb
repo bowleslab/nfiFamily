{
 "cells": [
  {
   "cell_type": "code",
   "execution_count": null,
   "id": "5e40321f",
   "metadata": {},
   "outputs": [],
   "source": []
  },
  {
   "cell_type": "markdown",
   "id": "a61b0b25",
   "metadata": {},
   "source": [
    "Filter the raw data from Ernst to get matrix of counts for different cell types."
   ]
  },
  {
   "cell_type": "markdown",
   "id": "9d0bc272",
   "metadata": {},
   "source": [
    "Data available https://www.ebi.ac.uk/arrayexpress/experiments/E-MTAB-6946/ (Ernst et al. 2019)\n"
   ]
  },
  {
   "cell_type": "code",
   "execution_count": 1,
   "id": "b1b514ed",
   "metadata": {},
   "outputs": [
    {
     "name": "stderr",
     "output_type": "stream",
     "text": [
      "Loading required package: limma\n",
      "\n"
     ]
    }
   ],
   "source": [
    "library(Matrix)\n",
    "library(\"data.table\")\n",
    "library(edgeR)\n",
    "library(SingleCellExperiment)\n",
    "library(scran)\n",
    "library(scuttle)"
   ]
  },
  {
   "cell_type": "code",
   "execution_count": 14,
   "id": "e907aaf7",
   "metadata": {},
   "outputs": [],
   "source": [
    "# Load male RPKM data (3.01 GB file)\n",
    "raw_counts <- readMM('data/ernst/raw_counts.mtx') #load the data as a sparse matrix"
   ]
  },
  {
   "cell_type": "markdown",
   "id": "c4decb3c",
   "metadata": {},
   "source": [
    "The raw_counts row are genes and colummns are cells"
   ]
  },
  {
   "cell_type": "code",
   "execution_count": 3,
   "id": "932715bf",
   "metadata": {},
   "outputs": [
    {
     "data": {
      "text/plain": [
       "5 x 5 sparse Matrix of class \"dgTMatrix\"\n",
       "              \n",
       "[1,] . . . . .\n",
       "[2,] . . . . .\n",
       "[3,] . . . . .\n",
       "[4,] . . . . .\n",
       "[5,] . . . . ."
      ]
     },
     "metadata": {},
     "output_type": "display_data"
    }
   ],
   "source": [
    "raw_counts[1:5,1:5] #This takes time as the raw_counts.mtx file is 3.01 GB "
   ]
  },
  {
   "cell_type": "code",
   "execution_count": 29,
   "id": "73a2a7ed",
   "metadata": {},
   "outputs": [
    {
     "data": {
      "text/html": [
       "<style>\n",
       ".list-inline {list-style: none; margin:0; padding: 0}\n",
       ".list-inline>li {display: inline-block}\n",
       ".list-inline>li:not(:last-child)::after {content: \"\\00b7\"; padding: 0 .5ex}\n",
       "</style>\n",
       "<ol class=list-inline><li>'Sample'</li><li>'Barcode'</li><li>'Library'</li><li>'is_cell_control'</li><li>'total_features_by_counts'</li><li>'log10_total_features_by_counts'</li><li>'total_counts'</li><li>'log10_total_counts'</li><li>'pct_counts_in_top_50_features'</li><li>'pct_counts_in_top_100_features'</li><li>'pct_counts_in_top_200_features'</li><li>'pct_counts_in_top_500_features'</li><li>'BroadClusters'</li><li>'AnnotatedClusters'</li></ol>\n"
      ],
      "text/latex": [
       "\\begin{enumerate*}\n",
       "\\item 'Sample'\n",
       "\\item 'Barcode'\n",
       "\\item 'Library'\n",
       "\\item 'is\\_cell\\_control'\n",
       "\\item 'total\\_features\\_by\\_counts'\n",
       "\\item 'log10\\_total\\_features\\_by\\_counts'\n",
       "\\item 'total\\_counts'\n",
       "\\item 'log10\\_total\\_counts'\n",
       "\\item 'pct\\_counts\\_in\\_top\\_50\\_features'\n",
       "\\item 'pct\\_counts\\_in\\_top\\_100\\_features'\n",
       "\\item 'pct\\_counts\\_in\\_top\\_200\\_features'\n",
       "\\item 'pct\\_counts\\_in\\_top\\_500\\_features'\n",
       "\\item 'BroadClusters'\n",
       "\\item 'AnnotatedClusters'\n",
       "\\end{enumerate*}\n"
      ],
      "text/markdown": [
       "1. 'Sample'\n",
       "2. 'Barcode'\n",
       "3. 'Library'\n",
       "4. 'is_cell_control'\n",
       "5. 'total_features_by_counts'\n",
       "6. 'log10_total_features_by_counts'\n",
       "7. 'total_counts'\n",
       "8. 'log10_total_counts'\n",
       "9. 'pct_counts_in_top_50_features'\n",
       "10. 'pct_counts_in_top_100_features'\n",
       "11. 'pct_counts_in_top_200_features'\n",
       "12. 'pct_counts_in_top_500_features'\n",
       "13. 'BroadClusters'\n",
       "14. 'AnnotatedClusters'\n",
       "\n",
       "\n"
      ],
      "text/plain": [
       " [1] \"Sample\"                         \"Barcode\"                       \n",
       " [3] \"Library\"                        \"is_cell_control\"               \n",
       " [5] \"total_features_by_counts\"       \"log10_total_features_by_counts\"\n",
       " [7] \"total_counts\"                   \"log10_total_counts\"            \n",
       " [9] \"pct_counts_in_top_50_features\"  \"pct_counts_in_top_100_features\"\n",
       "[11] \"pct_counts_in_top_200_features\" \"pct_counts_in_top_500_features\"\n",
       "[13] \"BroadClusters\"                  \"AnnotatedClusters\"             "
      ]
     },
     "metadata": {},
     "output_type": "display_data"
    },
    {
     "data": {
      "text/html": [
       "<table class=\"dataframe\">\n",
       "<caption>A data.frame: 6 × 14</caption>\n",
       "<thead>\n",
       "\t<tr><th></th><th scope=col>Sample</th><th scope=col>Barcode</th><th scope=col>Library</th><th scope=col>is_cell_control</th><th scope=col>total_features_by_counts</th><th scope=col>log10_total_features_by_counts</th><th scope=col>total_counts</th><th scope=col>log10_total_counts</th><th scope=col>pct_counts_in_top_50_features</th><th scope=col>pct_counts_in_top_100_features</th><th scope=col>pct_counts_in_top_200_features</th><th scope=col>pct_counts_in_top_500_features</th><th scope=col>BroadClusters</th><th scope=col>AnnotatedClusters</th></tr>\n",
       "\t<tr><th></th><th scope=col>&lt;chr&gt;</th><th scope=col>&lt;chr&gt;</th><th scope=col>&lt;chr&gt;</th><th scope=col>&lt;lgl&gt;</th><th scope=col>&lt;int&gt;</th><th scope=col>&lt;dbl&gt;</th><th scope=col>&lt;int&gt;</th><th scope=col>&lt;dbl&gt;</th><th scope=col>&lt;dbl&gt;</th><th scope=col>&lt;dbl&gt;</th><th scope=col>&lt;dbl&gt;</th><th scope=col>&lt;dbl&gt;</th><th scope=col>&lt;chr&gt;</th><th scope=col>&lt;chr&gt;</th></tr>\n",
       "</thead>\n",
       "<tbody>\n",
       "\t<tr><th scope=row>1</th><td>B6</td><td>AAACCTGAGATGGCGT-1</td><td>do17815</td><td>FALSE</td><td>4761</td><td>3.677789</td><td>41018</td><td>4.612985</td><td>26.05929</td><td>34.15817</td><td>45.16798</td><td>63.93778</td><td>Germ</td><td>S9           </td></tr>\n",
       "\t<tr><th scope=row>2</th><td>B6</td><td>AAACCTGAGTTCGATC-1</td><td>do17815</td><td>FALSE</td><td>3211</td><td>3.506776</td><td>20236</td><td>4.306146</td><td>30.46057</td><td>39.52856</td><td>51.37379</td><td>70.47341</td><td>Germ</td><td>S10          </td></tr>\n",
       "\t<tr><th scope=row>3</th><td>B6</td><td>AAACCTGTCAAGATCC-1</td><td>do17815</td><td>FALSE</td><td>6175</td><td>3.790707</td><td>41335</td><td>4.616328</td><td>12.71078</td><td>19.64437</td><td>29.30204</td><td>46.93117</td><td>Germ</td><td>S3           </td></tr>\n",
       "\t<tr><th scope=row>4</th><td>B6</td><td>AAACCTGTCACGATGT-1</td><td>do17815</td><td>FALSE</td><td>4873</td><td>3.687886</td><td>13920</td><td>4.143670</td><td>13.06753</td><td>20.39511</td><td>29.67672</td><td>45.41667</td><td>Germ</td><td>Spermatogonia</td></tr>\n",
       "\t<tr><th scope=row>5</th><td>B6</td><td>AAACCTGTCTGCTGCT-1</td><td>do17815</td><td>FALSE</td><td>6029</td><td>3.780317</td><td>48207</td><td>4.683119</td><td>14.77379</td><td>21.76862</td><td>31.58670</td><td>50.32672</td><td>Germ</td><td>S6           </td></tr>\n",
       "\t<tr><th scope=row>6</th><td>B6</td><td>AAACGGGCAGCCAATT-1</td><td>do17815</td><td>FALSE</td><td>5796</td><td>3.763203</td><td>42084</td><td>4.624127</td><td>13.13088</td><td>20.28324</td><td>30.40110</td><td>49.39169</td><td>Germ</td><td>S6           </td></tr>\n",
       "</tbody>\n",
       "</table>\n"
      ],
      "text/latex": [
       "A data.frame: 6 × 14\n",
       "\\begin{tabular}{r|llllllllllllll}\n",
       "  & Sample & Barcode & Library & is\\_cell\\_control & total\\_features\\_by\\_counts & log10\\_total\\_features\\_by\\_counts & total\\_counts & log10\\_total\\_counts & pct\\_counts\\_in\\_top\\_50\\_features & pct\\_counts\\_in\\_top\\_100\\_features & pct\\_counts\\_in\\_top\\_200\\_features & pct\\_counts\\_in\\_top\\_500\\_features & BroadClusters & AnnotatedClusters\\\\\n",
       "  & <chr> & <chr> & <chr> & <lgl> & <int> & <dbl> & <int> & <dbl> & <dbl> & <dbl> & <dbl> & <dbl> & <chr> & <chr>\\\\\n",
       "\\hline\n",
       "\t1 & B6 & AAACCTGAGATGGCGT-1 & do17815 & FALSE & 4761 & 3.677789 & 41018 & 4.612985 & 26.05929 & 34.15817 & 45.16798 & 63.93778 & Germ & S9           \\\\\n",
       "\t2 & B6 & AAACCTGAGTTCGATC-1 & do17815 & FALSE & 3211 & 3.506776 & 20236 & 4.306146 & 30.46057 & 39.52856 & 51.37379 & 70.47341 & Germ & S10          \\\\\n",
       "\t3 & B6 & AAACCTGTCAAGATCC-1 & do17815 & FALSE & 6175 & 3.790707 & 41335 & 4.616328 & 12.71078 & 19.64437 & 29.30204 & 46.93117 & Germ & S3           \\\\\n",
       "\t4 & B6 & AAACCTGTCACGATGT-1 & do17815 & FALSE & 4873 & 3.687886 & 13920 & 4.143670 & 13.06753 & 20.39511 & 29.67672 & 45.41667 & Germ & Spermatogonia\\\\\n",
       "\t5 & B6 & AAACCTGTCTGCTGCT-1 & do17815 & FALSE & 6029 & 3.780317 & 48207 & 4.683119 & 14.77379 & 21.76862 & 31.58670 & 50.32672 & Germ & S6           \\\\\n",
       "\t6 & B6 & AAACGGGCAGCCAATT-1 & do17815 & FALSE & 5796 & 3.763203 & 42084 & 4.624127 & 13.13088 & 20.28324 & 30.40110 & 49.39169 & Germ & S6           \\\\\n",
       "\\end{tabular}\n"
      ],
      "text/markdown": [
       "\n",
       "A data.frame: 6 × 14\n",
       "\n",
       "| <!--/--> | Sample &lt;chr&gt; | Barcode &lt;chr&gt; | Library &lt;chr&gt; | is_cell_control &lt;lgl&gt; | total_features_by_counts &lt;int&gt; | log10_total_features_by_counts &lt;dbl&gt; | total_counts &lt;int&gt; | log10_total_counts &lt;dbl&gt; | pct_counts_in_top_50_features &lt;dbl&gt; | pct_counts_in_top_100_features &lt;dbl&gt; | pct_counts_in_top_200_features &lt;dbl&gt; | pct_counts_in_top_500_features &lt;dbl&gt; | BroadClusters &lt;chr&gt; | AnnotatedClusters &lt;chr&gt; |\n",
       "|---|---|---|---|---|---|---|---|---|---|---|---|---|---|---|\n",
       "| 1 | B6 | AAACCTGAGATGGCGT-1 | do17815 | FALSE | 4761 | 3.677789 | 41018 | 4.612985 | 26.05929 | 34.15817 | 45.16798 | 63.93778 | Germ | S9            |\n",
       "| 2 | B6 | AAACCTGAGTTCGATC-1 | do17815 | FALSE | 3211 | 3.506776 | 20236 | 4.306146 | 30.46057 | 39.52856 | 51.37379 | 70.47341 | Germ | S10           |\n",
       "| 3 | B6 | AAACCTGTCAAGATCC-1 | do17815 | FALSE | 6175 | 3.790707 | 41335 | 4.616328 | 12.71078 | 19.64437 | 29.30204 | 46.93117 | Germ | S3            |\n",
       "| 4 | B6 | AAACCTGTCACGATGT-1 | do17815 | FALSE | 4873 | 3.687886 | 13920 | 4.143670 | 13.06753 | 20.39511 | 29.67672 | 45.41667 | Germ | Spermatogonia |\n",
       "| 5 | B6 | AAACCTGTCTGCTGCT-1 | do17815 | FALSE | 6029 | 3.780317 | 48207 | 4.683119 | 14.77379 | 21.76862 | 31.58670 | 50.32672 | Germ | S6            |\n",
       "| 6 | B6 | AAACGGGCAGCCAATT-1 | do17815 | FALSE | 5796 | 3.763203 | 42084 | 4.624127 | 13.13088 | 20.28324 | 30.40110 | 49.39169 | Germ | S6            |\n",
       "\n"
      ],
      "text/plain": [
       "  Sample Barcode            Library is_cell_control total_features_by_counts\n",
       "1 B6     AAACCTGAGATGGCGT-1 do17815 FALSE           4761                    \n",
       "2 B6     AAACCTGAGTTCGATC-1 do17815 FALSE           3211                    \n",
       "3 B6     AAACCTGTCAAGATCC-1 do17815 FALSE           6175                    \n",
       "4 B6     AAACCTGTCACGATGT-1 do17815 FALSE           4873                    \n",
       "5 B6     AAACCTGTCTGCTGCT-1 do17815 FALSE           6029                    \n",
       "6 B6     AAACGGGCAGCCAATT-1 do17815 FALSE           5796                    \n",
       "  log10_total_features_by_counts total_counts log10_total_counts\n",
       "1 3.677789                       41018        4.612985          \n",
       "2 3.506776                       20236        4.306146          \n",
       "3 3.790707                       41335        4.616328          \n",
       "4 3.687886                       13920        4.143670          \n",
       "5 3.780317                       48207        4.683119          \n",
       "6 3.763203                       42084        4.624127          \n",
       "  pct_counts_in_top_50_features pct_counts_in_top_100_features\n",
       "1 26.05929                      34.15817                      \n",
       "2 30.46057                      39.52856                      \n",
       "3 12.71078                      19.64437                      \n",
       "4 13.06753                      20.39511                      \n",
       "5 14.77379                      21.76862                      \n",
       "6 13.13088                      20.28324                      \n",
       "  pct_counts_in_top_200_features pct_counts_in_top_500_features BroadClusters\n",
       "1 45.16798                       63.93778                       Germ         \n",
       "2 51.37379                       70.47341                       Germ         \n",
       "3 29.30204                       46.93117                       Germ         \n",
       "4 29.67672                       45.41667                       Germ         \n",
       "5 31.58670                       50.32672                       Germ         \n",
       "6 30.40110                       49.39169                       Germ         \n",
       "  AnnotatedClusters\n",
       "1 S9               \n",
       "2 S10              \n",
       "3 S3               \n",
       "4 Spermatogonia    \n",
       "5 S6               \n",
       "6 S6               "
      ]
     },
     "metadata": {},
     "output_type": "display_data"
    }
   ],
   "source": [
    "# Load metadata and genes\n",
    "cell_metadata <- read.delim(\"data/ernst/cell_metadata.txt\", header = TRUE, sep = \" \", dec = \".\")\n",
    "genes <- read.delim(\"data/ernst/genes.tsv\", header = TRUE, sep = \"\\t\", dec = \".\")\n",
    "\n",
    "\n",
    "names(cell_metadata) #Check metadata of the table\n",
    "head(cell_metadata)"
   ]
  },
  {
   "cell_type": "markdown",
   "id": "97ed128e",
   "metadata": {},
   "source": [
    "The table have 2 interesting colummns Sample and AnnotatedClusters. This metadata give us the age of the mice (Sample)\n",
    "and the cell type (AnnotatedClusters). It is based in the analysis published by Ernst et al. 2019."
   ]
  },
  {
   "cell_type": "code",
   "execution_count": 4,
   "id": "a7d675e0",
   "metadata": {},
   "outputs": [
    {
     "data": {
      "text/plain": [
       "\n",
       "   B6   P10   P15   P20   P25   P30   P35    P5   Tc0   Tc1 \n",
       " 3355  3213  4258  1775  4334  2278  3160  8112  9677 13348 "
      ]
     },
     "metadata": {},
     "output_type": "display_data"
    }
   ],
   "source": [
    "table(cell_metadata$Sample) # Different ages of the mice B6 is adult, and P means days after birth. "
   ]
  },
  {
   "cell_type": "code",
   "execution_count": 5,
   "id": "afea61c1",
   "metadata": {},
   "outputs": [
    {
     "data": {
      "text/plain": [
       "\n",
       "                D Endothelial_cells               eP1               eP2 \n",
       "             3162               309               688              1855 \n",
       "   Fetal_Leydig_1    Fetal_Leydig_2  Interstitial_tMg          Leydig_1 \n",
       "             5730               845               198               819 \n",
       "         Leydig_2               lP1               lP2                MI \n",
       "              598              2738              2972              1819 \n",
       "              MII                mP          Outliers               PTM \n",
       "             1602              2254              3310              1279 \n",
       "               S1               S10               S11                S2 \n",
       "             2704              2087              2273              2131 \n",
       "               S3                S4                S5                S6 \n",
       "             1116              2212              2016              2444 \n",
       "               S7                S8                S9           Sertoli \n",
       "             1086              1113              1225              1007 \n",
       "    Spermatogonia \n",
       "             1918 "
      ]
     },
     "metadata": {},
     "output_type": "display_data"
    }
   ],
   "source": [
    "table(cell_metadata$AnnotatedClusters) # Different clusters showing different cell types. See Fig. 2 Erns et al. 2019"
   ]
  },
  {
   "cell_type": "markdown",
   "id": "a7353844",
   "metadata": {},
   "source": [
    "A1: type A1 spermatogonia, In:\n",
    "intermediate spermatogonia, BS: S phase type B spermatogonia, BG2: G2/M phase type B spermatogonia, G1: G1 phase pre-leptotene SC, epL: early-S\n",
    "phase pre-leptotene SC, mpL: mid-S phase pre-leptotene SC, lpL: late-S phase pre-leptotene SC, L: leptotene SC, Z: zygotene SC, eP: early-pachytene SC,\n",
    "mP: mid-pachytene SC, lP: late-pachytene SC, D: diplotene SC, MI: metaphase I, MII: metaphase II, RS1o2: S1–2 spermatids, RS3o4: S3–4 spermatids, RS5o6:\n",
    "S5-6 spermatids, RS7o8: S7-8 spermatids"
   ]
  },
  {
   "cell_type": "code",
   "execution_count": 30,
   "id": "83e28df4",
   "metadata": {},
   "outputs": [],
   "source": [
    "row.names(cell_metadata) =  paste(cell_metadata$AnnotatedClusters, \"-\",row.names(cell_metadata))"
   ]
  },
  {
   "cell_type": "code",
   "execution_count": 31,
   "id": "6acdf2b8",
   "metadata": {},
   "outputs": [],
   "source": [
    "row.names(genes) = genes$ID"
   ]
  },
  {
   "cell_type": "code",
   "execution_count": 26,
   "id": "f2029825",
   "metadata": {},
   "outputs": [
    {
     "data": {
      "text/html": [
       "<table class=\"dataframe\">\n",
       "<caption>A data.frame: 6 × 2</caption>\n",
       "<thead>\n",
       "\t<tr><th></th><th scope=col>ID</th><th scope=col>Symbol</th></tr>\n",
       "\t<tr><th></th><th scope=col>&lt;chr&gt;</th><th scope=col>&lt;chr&gt;</th></tr>\n",
       "</thead>\n",
       "<tbody>\n",
       "\t<tr><th scope=row>1</th><td>ENSMUSG00000102693</td><td>4933401J01Rik</td></tr>\n",
       "\t<tr><th scope=row>2</th><td>ENSMUSG00000051951</td><td>Xkr4         </td></tr>\n",
       "\t<tr><th scope=row>3</th><td>ENSMUSG00000103377</td><td>Gm37180      </td></tr>\n",
       "\t<tr><th scope=row>4</th><td>ENSMUSG00000104017</td><td>Gm37363      </td></tr>\n",
       "\t<tr><th scope=row>5</th><td>ENSMUSG00000103025</td><td>Gm37686      </td></tr>\n",
       "\t<tr><th scope=row>6</th><td>ENSMUSG00000089699</td><td>Gm1992       </td></tr>\n",
       "</tbody>\n",
       "</table>\n"
      ],
      "text/latex": [
       "A data.frame: 6 × 2\n",
       "\\begin{tabular}{r|ll}\n",
       "  & ID & Symbol\\\\\n",
       "  & <chr> & <chr>\\\\\n",
       "\\hline\n",
       "\t1 & ENSMUSG00000102693 & 4933401J01Rik\\\\\n",
       "\t2 & ENSMUSG00000051951 & Xkr4         \\\\\n",
       "\t3 & ENSMUSG00000103377 & Gm37180      \\\\\n",
       "\t4 & ENSMUSG00000104017 & Gm37363      \\\\\n",
       "\t5 & ENSMUSG00000103025 & Gm37686      \\\\\n",
       "\t6 & ENSMUSG00000089699 & Gm1992       \\\\\n",
       "\\end{tabular}\n"
      ],
      "text/markdown": [
       "\n",
       "A data.frame: 6 × 2\n",
       "\n",
       "| <!--/--> | ID &lt;chr&gt; | Symbol &lt;chr&gt; |\n",
       "|---|---|---|\n",
       "| 1 | ENSMUSG00000102693 | 4933401J01Rik |\n",
       "| 2 | ENSMUSG00000051951 | Xkr4          |\n",
       "| 3 | ENSMUSG00000103377 | Gm37180       |\n",
       "| 4 | ENSMUSG00000104017 | Gm37363       |\n",
       "| 5 | ENSMUSG00000103025 | Gm37686       |\n",
       "| 6 | ENSMUSG00000089699 | Gm1992        |\n",
       "\n"
      ],
      "text/plain": [
       "  ID                 Symbol       \n",
       "1 ENSMUSG00000102693 4933401J01Rik\n",
       "2 ENSMUSG00000051951 Xkr4         \n",
       "3 ENSMUSG00000103377 Gm37180      \n",
       "4 ENSMUSG00000104017 Gm37363      \n",
       "5 ENSMUSG00000103025 Gm37686      \n",
       "6 ENSMUSG00000089699 Gm1992       "
      ]
     },
     "metadata": {},
     "output_type": "display_data"
    }
   ],
   "source": [
    "head(genes)"
   ]
  },
  {
   "cell_type": "code",
   "execution_count": 33,
   "id": "40c219f9",
   "metadata": {},
   "outputs": [],
   "source": [
    "#Add names to raws and colummns \n",
    "rownames(raw_counts) <- genes$ID\n",
    "colnames(raw_counts) <- row.names(cell_metadata)"
   ]
  },
  {
   "cell_type": "code",
   "execution_count": 34,
   "id": "954d749a",
   "metadata": {},
   "outputs": [
    {
     "data": {
      "text/plain": [
       "class: SingleCellExperiment \n",
       "dim: 33226 53510 \n",
       "metadata(0):\n",
       "assays(1): counts\n",
       "rownames(33226): ENSMUSG00000102693 ENSMUSG00000051951 ...\n",
       "  ENSG00000160307 ENSG00000160310\n",
       "rowData names(2): ID Symbol\n",
       "colnames(53510): S9 - 1 S10 - 2 ... S4 - 53509 S11 - 53510\n",
       "colData names(14): Sample Barcode ... BroadClusters AnnotatedClusters\n",
       "reducedDimNames(0):\n",
       "mainExpName: NULL\n",
       "altExpNames(0):"
      ]
     },
     "metadata": {},
     "output_type": "display_data"
    }
   ],
   "source": [
    "\n",
    "sce <- SingleCellExperiment(list(counts= raw_counts), colData=cell_metadata,rowData = genes )\n",
    "sce"
   ]
  },
  {
   "cell_type": "code",
   "execution_count": 39,
   "id": "2e29edb5",
   "metadata": {},
   "outputs": [],
   "source": [
    "#Nfix <- sce[ rowData(sce)$Symbol == 'Nfix',c(1:10)]"
   ]
  },
  {
   "cell_type": "code",
   "execution_count": 44,
   "id": "73906148",
   "metadata": {},
   "outputs": [],
   "source": [
    "qcstats <- perCellQCMetrics(sce)\n"
   ]
  },
  {
   "cell_type": "code",
   "execution_count": 48,
   "id": "34144326",
   "metadata": {},
   "outputs": [
    {
     "data": {
      "text/plain": [
       "    Min.  1st Qu.   Median     Mean  3rd Qu.     Max. \n",
       " 0.04222  0.40280  0.77707  1.00000  1.35858 15.88151 "
      ]
     },
     "metadata": {},
     "output_type": "display_data"
    }
   ],
   "source": [
    "clusters <- quickCluster(sce)\n",
    "sce <- computeSumFactors(sce, clusters=clusters)\n",
    "summary(sizeFactors(sce))"
   ]
  },
  {
   "cell_type": "code",
   "execution_count": 49,
   "id": "bb256bb9",
   "metadata": {},
   "outputs": [],
   "source": [
    "sce <- logNormCounts(sce)"
   ]
  },
  {
   "cell_type": "markdown",
   "id": "912bf7fa",
   "metadata": {},
   "source": [
    "We are intersted in the first wave of spermatognesis and adult spermatogenesis. It starts ~P3 and is completed ~P30-35. We filter P15 and adult spermatogonia Cells."
   ]
  },
  {
   "cell_type": "code",
   "execution_count": 50,
   "id": "62f0bbbe",
   "metadata": {},
   "outputs": [],
   "source": [
    "Spermatogonia = sce[,sce$AnnotatedClusters == 'Spermatogonia']"
   ]
  },
  {
   "cell_type": "code",
   "execution_count": 63,
   "id": "fb6b880b",
   "metadata": {},
   "outputs": [],
   "source": [
    "SpermatogoniaP15 = Spermatogonia[ , Spermatogonia$Sample == 'P15' ]"
   ]
  },
  {
   "cell_type": "code",
   "execution_count": 64,
   "id": "7f4bd9ad",
   "metadata": {},
   "outputs": [],
   "source": [
    "SpermatogoniaAdult = Spermatogonia[ , Spermatogonia$Sample == 'B6' ]"
   ]
  },
  {
   "cell_type": "markdown",
   "id": "62aa1d89",
   "metadata": {},
   "source": [
    "Save the data in files"
   ]
  },
  {
   "cell_type": "code",
   "execution_count": 94,
   "id": "609162ce",
   "metadata": {},
   "outputs": [],
   "source": [
    "save(sce, file=\"data/ernst/spermatogenesisCellErnst.Rdata\")"
   ]
  },
  {
   "cell_type": "code",
   "execution_count": 93,
   "id": "eae23c5f",
   "metadata": {},
   "outputs": [],
   "source": [
    "save(Spermatogonia, file=\"data/ernst/Spermatogonia.Rdata\")\n",
    "save(SpermatogoniaP15, file=\"data/ernst/SpermatogoniaP15.Rdata\")\n",
    "save(SpermatogoniaAdult, file=\"data/ernst/SpermatogoniaAdult.Rdata\")"
   ]
  },
  {
   "cell_type": "code",
   "execution_count": 70,
   "id": "53195416",
   "metadata": {},
   "outputs": [
    {
     "data": {
      "text/plain": [
       "\n",
       " B6 P10 P15 P20 P25 P30 P35  P5 Tc0 Tc1 \n",
       " 40 345 820  36  18  18   6 545  28  62 "
      ]
     },
     "metadata": {},
     "output_type": "display_data"
    }
   ],
   "source": [
    "table(Spermatogonia$Sample)"
   ]
  },
  {
   "cell_type": "markdown",
   "id": "93861021",
   "metadata": {},
   "source": [
    "Filter Spermatocytes"
   ]
  },
  {
   "cell_type": "code",
   "execution_count": 96,
   "id": "76cd25d0",
   "metadata": {},
   "outputs": [
    {
     "ename": "ERROR",
     "evalue": "Error: subscript is a logical vector with out-of-bounds TRUE values\n",
     "output_type": "error",
     "traceback": [
      "Error: subscript is a logical vector with out-of-bounds TRUE values\nTraceback:\n",
      "1. Spermatogonia[, Spermatocytes$Sample == \"P15\"]",
      "2. Spermatogonia[, Spermatocytes$Sample == \"P15\"]",
      "3. int_colData(x)[jj, , drop = FALSE]",
      "4. int_colData(x)[jj, , drop = FALSE]",
      "5. extractROWS(x, i)",
      "6. extractROWS(x, i)",
      "7. normalizeSingleBracketSubscript(i, x, exact = FALSE, allow.NAs = TRUE, \n .     as.NSBS = TRUE)",
      "8. NSBS(i, x, exact = exact, strict.upper.bound = !allow.append, \n .     allow.NAs = allow.NAs)",
      "9. NSBS(i, x, exact = exact, strict.upper.bound = !allow.append, \n .     allow.NAs = allow.NAs)",
      "10. .subscript_error(\"subscript is a logical vector with out-of-bounds \", \n  .     \"TRUE values\")",
      "11. stop(wmsg(...), call. = FALSE)"
     ]
    }
   ],
   "source": [
    "Spermatocytes = sce[,sce$AnnotatedClusters %in% c(\"eP1\",\"eP2\",\"mP\",\"lP1\",\"lP2\",\"D\",\"MI\",\"MII\")]\n",
    "\n"
   ]
  },
  {
   "cell_type": "code",
   "execution_count": 97,
   "id": "41b0c9ab",
   "metadata": {},
   "outputs": [],
   "source": [
    "SpermatocytesP15 = Spermatocytes[ , Spermatocytes$Sample == 'P15' ]\n",
    "SpermatocytesAdult = Spermatocytes[ , Spermatocytes$Sample == 'B6' ]"
   ]
  },
  {
   "cell_type": "code",
   "execution_count": 98,
   "id": "14e3ae63",
   "metadata": {},
   "outputs": [],
   "source": [
    "save(Spermatocytes, file=\"data/ernst/Spermatocytes.Rdata\")\n",
    "save(SpermatocytesP15, file=\"data/ernst/SpermatocytesP15.Rdata\")\n",
    "save(SpermatocytesAdult, file=\"data/ernst/SpermatocytesAdult.Rdata\")"
   ]
  },
  {
   "cell_type": "code",
   "execution_count": 99,
   "id": "be09f895",
   "metadata": {},
   "outputs": [
    {
     "data": {
      "text/plain": [
       "\n",
       "   D  eP1  eP2  lP1  lP2   MI  MII   mP \n",
       "3162  688 1855 2738 2972 1819 1602 2254 "
      ]
     },
     "metadata": {},
     "output_type": "display_data"
    }
   ],
   "source": [
    "table(Spermatocytes$AnnotatedClusters)"
   ]
  },
  {
   "cell_type": "markdown",
   "id": "d46c1315",
   "metadata": {},
   "source": [
    "Filter Sertoli cells"
   ]
  },
  {
   "cell_type": "code",
   "execution_count": 100,
   "id": "661c14fc",
   "metadata": {},
   "outputs": [
    {
     "data": {
      "text/plain": [
       "\n",
       " B6 P10 P15 P20 P25 P30 P35  P5 Tc0 Tc1 \n",
       " 29 112 377  12  13  34  14 170 127 119 "
      ]
     },
     "metadata": {},
     "output_type": "display_data"
    }
   ],
   "source": [
    "Sertoli = sce[,sce$AnnotatedClusters == c(\"Sertoli\")]\n",
    "table(Sertoli$Sample)"
   ]
  },
  {
   "cell_type": "code",
   "execution_count": 101,
   "id": "e9ff42a2",
   "metadata": {},
   "outputs": [],
   "source": [
    "SertoliP15 = Sertoli[ , Sertoli$Sample == 'P15' ]\n",
    "SertoliAdult = Sertoli[ , Sertoli$Sample == 'B6' ]\n",
    "\n",
    "save(Sertoli, file=\"data/ernst/Sertoli.Rdata\")\n",
    "save(SertoliP15, file=\"data/ernst/SertoliP15.Rdata\")\n",
    "save(SertoliAdult, file=\"data/ernst/SSertoliAdult.Rdata\")\n"
   ]
  },
  {
   "cell_type": "markdown",
   "id": "078f9982",
   "metadata": {},
   "source": [
    "Filter Leydig cells"
   ]
  },
  {
   "cell_type": "code",
   "execution_count": 102,
   "id": "ea259130",
   "metadata": {},
   "outputs": [
    {
     "data": {
      "text/plain": [
       "\n",
       " B6 P10 P15 P20 P25 P30 P35  P5 Tc0 Tc1 \n",
       " 13 516  96   7   6   3   2 641  31 102 "
      ]
     },
     "metadata": {},
     "output_type": "display_data"
    }
   ],
   "source": [
    "Leydig = sce[,sce$AnnotatedClusters %in% c(\"Leydig_1\",\"Leydig_2\")]\n",
    "table(Leydig$Sample)"
   ]
  },
  {
   "cell_type": "code",
   "execution_count": 103,
   "id": "cd8832c1",
   "metadata": {},
   "outputs": [],
   "source": [
    "LeydigP15 = Leydig[ , Leydig$Sample == 'P15' ]\n",
    "LeydigAdult = Leydig[ , Leydig$Sample == 'B6' ]\n",
    "\n",
    "save(Leydig, file=\"data/ernst/Leydig.Rdata\")\n",
    "save(LeydigP15, file=\"data/ernst/LeydigP15.Rdata\")\n",
    "save(LeydigAdult, file=\"data/ernst/LeydigAdult.Rdata\")"
   ]
  },
  {
   "cell_type": "code",
   "execution_count": null,
   "id": "4d9b86f5",
   "metadata": {},
   "outputs": [],
   "source": []
  }
 ],
 "metadata": {
  "kernelspec": {
   "display_name": "R",
   "language": "R",
   "name": "ir"
  },
  "language_info": {
   "codemirror_mode": "r",
   "file_extension": ".r",
   "mimetype": "text/x-r-source",
   "name": "R",
   "pygments_lexer": "r",
   "version": "4.1.1"
  }
 },
 "nbformat": 4,
 "nbformat_minor": 5
}
